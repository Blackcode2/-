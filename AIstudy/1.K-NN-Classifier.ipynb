{
 "cells": [
  {
   "cell_type": "markdown",
   "id": "67b9b23c-f98a-4cac-87a5-7dd03cf4ab41",
   "metadata": {},
   "source": [
    "K-NN (K-Nearest Neighbor) 알고리즘  \n",
    "최근접 이웃 알고리즘  \n",
    "도미인지 빙어인지 구별하는 Classification"
   ]
  },
  {
   "cell_type": "code",
   "execution_count": 18,
   "id": "ca1f53e8-efd2-44c3-9b5a-e23a61f50b08",
   "metadata": {},
   "outputs": [],
   "source": [
    "import matplotlib.pyplot as plt"
   ]
  },
  {
   "cell_type": "code",
   "execution_count": 19,
   "id": "2ff99dc0-fb4c-4aa1-96e1-378e7bb4873d",
   "metadata": {},
   "outputs": [],
   "source": [
    "#도미 데이터\n",
    "\n",
    "bream_length = [25.4, 26.3, 26.5, 29.0, 29.0, 29.7, 29.7, 30.0, 30.0, 30.7, 31.0, 31.0, \n",
    "                31.5, 32.0, 32.0, 32.0, 33.0, 33.0, 33.5, 33.5, 34.0, 34.0, 34.5, 35.0, \n",
    "                35.0, 35.0, 35.0, 36.0, 36.0, 37.0, 38.5, 38.5, 39.5, 41.0, 41.0]\n",
    "bream_weight = [242.0, 290.0, 340.0, 363.0, 430.0, 450.0, 500.0, 390.0, 450.0, 500.0, 475.0, 500.0, \n",
    "                500.0, 340.0, 600.0, 600.0, 700.0, 700.0, 610.0, 650.0, 575.0, 685.0, 620.0, 680.0, \n",
    "                700.0, 725.0, 720.0, 714.0, 850.0, 1000.0, 920.0, 955.0, 925.0, 975.0, 950.0]"
   ]
  },
  {
   "cell_type": "code",
   "execution_count": 6,
   "id": "343e1742-03ff-4c54-9be9-57b256cc2460",
   "metadata": {},
   "outputs": [
    {
     "data": {
      "image/png": "[encoded data removed]",
      "text/plain": [
       "<Figure size 432x288 with 1 Axes>"
      ]
     },
     "metadata": {
      "needs_background": "light"
     },
     "output_type": "display_data"
    }
   ],
   "source": [
    "# 도미 데이터 산점도 확인\n",
    "\n",
    "plt.scatter(bream_length,bream_weight)\n",
    "plt.xlabel('length')\n",
    "plt.ylabel('weight')\n",
    "plt.show()"
   ]
  },
  {
   "cell_type": "code",
   "execution_count": 8,
   "id": "72c34174-ff1e-45ee-a4a0-e6f708498881",
   "metadata": {},
   "outputs": [],
   "source": [
    "#빙어 데이터\n",
    "\n",
    "smelt_length = [9.8, 10.5, 10.6, 11.0, 11.2, 11.3, 11.8, 11.8, 12.0, 12.2, 12.4, 13.0, 14.3, 15.0]\n",
    "smelt_weight = [6.7, 7.5, 7.0, 9.7, 9.8, 8.7, 10.0, 9.9, 9.8, 12.2, 13.4, 12.2, 19.7, 19.9]"
   ]
  },
  {
   "cell_type": "code",
   "execution_count": 10,
   "id": "fa7b0c34-343b-46b5-9771-885ca5c58002",
   "metadata": {},
   "outputs": [
    {
     "data": {
      "image/png": "[encoded data removed]",
      "text/plain": [
       "<Figure size 432x288 with 1 Axes>"
      ]
     },
     "metadata": {
      "needs_background": "light"
     },
     "output_type": "display_data"
    }
   ],
   "source": [
    "# 도비, 빙어 데이터 산점도 확인\n",
    "\n",
    "plt.scatter(bream_length,bream_weight)\n",
    "plt.scatter(smelt_length,smelt_weight)\n",
    "plt.xlabel('length')\n",
    "plt.ylabel('weight')\n",
    "plt.show()"
   ]
  },
  {
   "cell_type": "code",
   "execution_count": 13,
   "id": "97941412-ab07-459f-b44c-280b613e8f44",
   "metadata": {},
   "outputs": [
    {
     "name": "stdout",
     "output_type": "stream",
     "text": [
      "[[25.4, 242.0], [26.3, 290.0], [26.5, 340.0], [29.0, 363.0], [29.0, 430.0], [29.7, 450.0], [29.7, 500.0], [30.0, 390.0], [30.0, 450.0], [30.7, 500.0], [31.0, 475.0], [31.0, 500.0], [31.5, 500.0], [32.0, 340.0], [32.0, 600.0], [32.0, 600.0], [33.0, 700.0], [33.0, 700.0], [33.5, 610.0], [33.5, 650.0], [34.0, 575.0], [34.0, 685.0], [34.5, 620.0], [35.0, 680.0], [35.0, 700.0], [35.0, 725.0], [35.0, 720.0], [36.0, 714.0], [36.0, 850.0], [37.0, 1000.0], [38.5, 920.0], [38.5, 955.0], [39.5, 925.0], [41.0, 975.0], [41.0, 950.0], [9.8, 6.7], [10.5, 7.5], [10.6, 7.0], [11.0, 9.7], [11.2, 9.8], [11.3, 8.7], [11.8, 10.0], [11.8, 9.9], [12.0, 9.8], [12.2, 12.2], [12.4, 13.4], [13.0, 12.2], [14.3, 19.7], [15.0, 19.9]]\n"
     ]
    }
   ],
   "source": [
    "#전처리를 파이썬만으로 처리한 버전\n",
    "\n",
    "# 도미와 빙어 리스트를 하나의 리스트로 합침\n",
    "length = bream_length + smelt_length\n",
    "weight = bream_weight + smelt_weight\n",
    "\n",
    "#사이킷런(scikit-learn) : 머신러닝 패키지, 이 패키지를 사용하려면 2차원 리스트로 만들어야 한다.\n",
    "#아래와 같이 zip()함수와 리스트 내포 구문을 사용해 2차원 리스트로 만든다.\n",
    "\n",
    "fish_data = [[l,w] for l,w in zip(length, weight)]\n",
    "\n",
    "print(fish_data)\n",
    "\n",
    "#[[length, weight],\n",
    "# [length, weight],\n",
    "#         .\n",
    "#         .\n",
    "#         .\n",
    "# [length, weight]] \n",
    "\n"
   ]
  },
  {
   "cell_type": "code",
   "execution_count": 16,
   "id": "46f62700-b1a8-410d-ace2-9ee198f4d62a",
   "metadata": {},
   "outputs": [
    {
     "data": {
      "text/plain": [
       "1.0"
      ]
     },
     "execution_count": 16,
     "metadata": {},
     "output_type": "execute_result"
    }
   ],
   "source": [
    "#정답 리스트\n",
    "#정답을 만들기 위해 도미를 1, 빙어를 0으로 만든 리스트를 생성한다.\n",
    "\n",
    "fish_target = [1] * 35 + [0] * 14\n",
    "\n",
    "#사이킷런 패키지에서 k-최근접 이웃 알고리즘을 구현한 클래스인 KNeighborsClassifier를 임포트한다.\n",
    "\n",
    "from sklearn.neighbors import KNeighborsClassifier\n",
    "\n",
    "kn = KNeighborsClassifier()  #임포트한 KNeighborsClassifier클래스의 객체를 먼저 만든다.\n",
    "kn.fit(fish_data,fish_target)  #이 객체에 fish_data와 fish_target을 전달하여 도미를 찾기 위한 기준을 학습시킨다. 이 과정을 훈련(training)이라고 부름. fit이 이런 역할을 한다.\n",
    "kn.score(fish_data,fish_target)  #모델이 얼마나 잘 훈련되었는지를 평가"
   ]
  },
  {
   "cell_type": "code",
   "execution_count": 17,
   "id": "7fab7a05-512f-4ed1-ba5c-c266d6913fee",
   "metadata": {},
   "outputs": [
    {
     "data": {
      "text/plain": [
       "array([1])"
      ]
     },
     "execution_count": 17,
     "metadata": {},
     "output_type": "execute_result"
    }
   ],
   "source": [
    "#새로운 데이터 예측\n",
    "kn.predict([[30, 600]])"
   ]
  },
  {
   "cell_type": "markdown",
   "id": "a8cfa9ff-6ca0-4323-aa99-e853c5af08af",
   "metadata": {},
   "source": [
    "============================================================================================================================"
   ]
  },
  {
   "cell_type": "code",
   "execution_count": 26,
   "id": "c8dd9a8f-e8c2-4fc4-9051-1be6bb7a615e",
   "metadata": {},
   "outputs": [],
   "source": [
    "#훈련 세트와 테스트 세트를 슬라이싱을 이용해 만들기\n",
    "\n",
    "train_input = fish_data[:35]\n",
    "train_target = fish_target[:35]\n",
    "\n",
    "test_input = fish_data[35:]\n",
    "test_target = fish_target[35:]\n"
   ]
  },
  {
   "cell_type": "code",
   "execution_count": 27,
   "id": "563e2975-35e3-4655-afe0-b712715ea70a",
   "metadata": {},
   "outputs": [],
   "source": [
    "#<샘플링 편향>\n",
    "\n",
    " \n",
    "\n",
    "#- 샘플링 편향 : 훈련세트와 테스트세트가 골고루 섞여있지 않아 샘플링이 한쪽으로만 치우친 상태\n",
    "\n",
    "#- 특정 종류의 샘플이 과도하게 많은 샘플링 편향을 가지고 있다면 제대로 된 지도 학습 모델을 만들 수 없다"
   ]
  },
  {
   "cell_type": "code",
   "execution_count": 28,
   "id": "3e72629b-a5d2-4f8f-b9e1-4c03c605114c",
   "metadata": {},
   "outputs": [
    {
     "name": "stdout",
     "output_type": "stream",
     "text": [
      "[13 45 47 44 17 27 26 25 31 19 12  4 34  8  3  6 40 41 46 15  9 16 24 33\n",
      " 30  0 43 32  5 29 11 36  1 21  2 37 35 23 39 10 22 18 48 20  7 42 14 28\n",
      " 38]\n"
     ]
    }
   ],
   "source": [
    "# 넘파이를 이용하요 샘플링 편향을 없앰\n",
    "\n",
    "import numpy as np\n",
    "\n",
    "input_arr = np.array(fish_data)\n",
    "target_arr = np.array(fish_target)\n",
    "\n",
    "#index를 arange로 만들어서 shuffle하는 방식을 사용한다.\n",
    "#35개를 train set으로 15개를 test set으로 설정해 만들었다.\n",
    "\n",
    "np.random.seed(42)\n",
    "index = np.arange(49)\n",
    "np.random.shuffle(index)\n",
    "\n",
    "print(index)\n",
    "\n",
    "train_input = input_arr[index[:35]]\n",
    "train_target = target_arr[index[:35]]\n",
    "\n",
    "test_input = input_arr[index[35:]]\n",
    "test_target = target_arr[index[35:]]"
   ]
  },
  {
   "cell_type": "code",
   "execution_count": 29,
   "id": "032e06f7-cdc0-4084-8248-d242dcfe869b",
   "metadata": {},
   "outputs": [
    {
     "data": {
      "image/png": "[encoded data removed]",
      "text/plain": [
       "<Figure size 432x288 with 1 Axes>"
      ]
     },
     "metadata": {
      "needs_background": "light"
     },
     "output_type": "display_data"
    }
   ],
   "source": [
    "plt.scatter(train_input[:,0],train_input[:,1])\n",
    "plt.scatter(test_input[:,0],test_input[:,1])\n",
    "plt.xlabel('length')\n",
    "plt.ylabel('weight')\n",
    "plt.show()"
   ]
  },
  {
   "cell_type": "code",
   "execution_count": 31,
   "id": "09f3354f-076f-4920-94f7-22b82abe7669",
   "metadata": {},
   "outputs": [
    {
     "data": {
      "text/plain": [
       "1.0"
      ]
     },
     "execution_count": 31,
     "metadata": {},
     "output_type": "execute_result"
    }
   ],
   "source": [
    "kn.fit(train_input, train_target)\n",
    "kn.score(test_input, test_target)\n"
   ]
  },
  {
   "cell_type": "markdown",
   "id": "521c21e4-9830-4b4e-af56-19dbecf698f3",
   "metadata": {},
   "source": [
    "====================================================================================================================="
   ]
  },
  {
   "cell_type": "code",
   "execution_count": 35,
   "id": "31e33342-32d9-496d-ba76-50d16e0d6ef9",
   "metadata": {},
   "outputs": [
    {
     "name": "stdout",
     "output_type": "stream",
     "text": [
      "[[  25.4  242. ]\n",
      " [  26.3  290. ]\n",
      " [  26.5  340. ]\n",
      " [  29.   363. ]\n",
      " [  29.   430. ]\n",
      " [  29.7  450. ]\n",
      " [  29.7  500. ]\n",
      " [  30.   390. ]\n",
      " [  30.   450. ]\n",
      " [  30.7  500. ]\n",
      " [  31.   475. ]\n",
      " [  31.   500. ]\n",
      " [  31.5  500. ]\n",
      " [  32.   340. ]\n",
      " [  32.   600. ]\n",
      " [  32.   600. ]\n",
      " [  33.   700. ]\n",
      " [  33.   700. ]\n",
      " [  33.5  610. ]\n",
      " [  33.5  650. ]\n",
      " [  34.   575. ]\n",
      " [  34.   685. ]\n",
      " [  34.5  620. ]\n",
      " [  35.   680. ]\n",
      " [  35.   700. ]\n",
      " [  35.   725. ]\n",
      " [  35.   720. ]\n",
      " [  36.   714. ]\n",
      " [  36.   850. ]\n",
      " [  37.  1000. ]\n",
      " [  38.5  920. ]\n",
      " [  38.5  955. ]\n",
      " [  39.5  925. ]\n",
      " [  41.   975. ]\n",
      " [  41.   950. ]\n",
      " [   9.8    6.7]\n",
      " [  10.5    7.5]\n",
      " [  10.6    7. ]\n",
      " [  11.     9.7]\n",
      " [  11.2    9.8]\n",
      " [  11.3    8.7]\n",
      " [  11.8   10. ]\n",
      " [  11.8    9.9]\n",
      " [  12.     9.8]\n",
      " [  12.2   12.2]\n",
      " [  12.4   13.4]\n",
      " [  13.    12.2]\n",
      " [  14.3   19.7]\n",
      " [  15.    19.9]]\n",
      "[1. 1. 1. 1. 1. 1. 1. 1. 1. 1. 1. 1. 1. 1. 1. 1. 1. 1. 1. 1. 1. 1. 1. 1.\n",
      " 1. 1. 1. 1. 1. 1. 1. 1. 1. 1. 1. 0. 0. 0. 0. 0. 0. 0. 0. 0. 0. 0. 0. 0.\n",
      " 0.]\n"
     ]
    }
   ],
   "source": [
    "# 사이킷런을 이용하여 샘플링 편향 없앰 (더 편함)\n",
    "\n",
    "#넘파이로 데이터 준비\n",
    "\n",
    "fish_data = np.column_stack((length, weight))  #컬럼 방향으로 두 데이터를 자동으로 2차원 배열로 만듬\n",
    "\n",
    "print(fish_data)\n",
    "\n",
    "fish_target = np.concatenate((np.ones(35), np.zeros(14)))  #정답을 만들기위한 넘파이 배열, 넘파이 배열을 하나로 합침\n",
    "\n",
    "print(fish_target)\n"
   ]
  },
  {
   "cell_type": "code",
   "execution_count": 36,
   "id": "29aff46f-60ed-4594-b242-da84dbced74b",
   "metadata": {},
   "outputs": [],
   "source": [
    "#사이킷런으로 데이터 나눔\n",
    "\n",
    "from sklearn.model_selection import train_test_split\n",
    "\n",
    "train_input, test_input, train_target, test_target = train_test_split(fish_data, fish_target, stratify=fish_target, random_state=42)\n",
    "\n",
    "#stratify: 타깃 데이터가 비율에 맞춰 골고루 섞이도록 훈련세트와 테스트 세트를 나눠준다"
   ]
  },
  {
   "cell_type": "code",
   "execution_count": 44,
   "id": "a304ef3d-f711-4eed-a6ce-c92c0c9272af",
   "metadata": {},
   "outputs": [
    {
     "name": "stdout",
     "output_type": "stream",
     "text": [
      "1.0\n",
      "[0.]\n"
     ]
    },
    {
     "data": {
      "image/png": "[encoded data removed]",
      "text/plain": [
       "<Figure size 432x288 with 1 Axes>"
      ]
     },
     "metadata": {
      "needs_background": "light"
     },
     "output_type": "display_data"
    },
    {
     "data": {
      "image/png": "[encoded data removed]",
      "text/plain": [
       "<Figure size 432x288 with 1 Axes>"
      ]
     },
     "metadata": {
      "needs_background": "light"
     },
     "output_type": "display_data"
    }
   ],
   "source": [
    "# 수상한 도미\n",
    "#수상한 도미 한마리가 존재한다. 분명 산점도 상에 근접한건 도미인데 결과로 빙어를 정답으로 출력한다.\n",
    "\n",
    "from sklearn.neighbors import KNeighborsClassifier\n",
    "\n",
    "kn = KNeighborsClassifier()  #임포트한 KNeighborsClassifier클래스의 객체를 먼저 만든다.\n",
    "kn.fit(train_input, train_target)  #이 객체에 fish_data와 fish_target을 전달하여 도미를 찾기 위한 기준을 학습시킨다. 이 과정을 훈련(training)이라고 부름. fit이 이런 역할을 한다.\n",
    "print(kn.score(test_input, test_target))  #모델이 얼마나 잘 훈련되었는지를 평가\n",
    "\n",
    "print(kn.predict([[25, 150]]))\n",
    "\n",
    "# 데이터와 수상한 도미 한마리 산점도\n",
    "import matplotlib.pyplot as plt\n",
    "\n",
    "plt.scatter(train_input[:,0], train_input[:,1])\n",
    "plt.scatter(25,150, marker='^')\n",
    "plt.xlabel('length')\n",
    "plt.ylabel('weight')\n",
    "plt.show()\n",
    "\n",
    "\n",
    "distances, indexes = kn.kneighbors([[25,150]]) #n_neighbor=5라 기본값인 5개의 근접 이웃 거리, 인덱스 추출\n",
    "plt.scatter(train_input[:,0], train_input[:,1])\n",
    "plt.scatter(25,150, marker='^')\n",
    "plt.scatter(train_input[indexes,0],train_input[indexes,1], marker='D')\n",
    "plt.xlabel('length')\n",
    "plt.ylabel('weight')\n",
    "plt.show()"
   ]
  },
  {
   "cell_type": "markdown",
   "id": "5c39e4e9-a4f2-4b85-8674-d569bcd71d8f",
   "metadata": {},
   "source": [
    "실제 근접한 값 5개를 찾은 결과 빙어가 더 많긴 하다. 왜 이런 결과가 나타난 것일까? 그 이유는 바로 length와 weight의 비중이 다르기 때문이다. y축으로 올라갈 수록 x축보다 실제 거리의 차이가 확연히 벌어진다. x축은 5단위이고 y축은 200단위여서 단순히 빙어가 가까워 보이는 것이다.\n",
    "\n",
    "\n",
    "위와 같은 상황을 막기 위해서는 적절한 기준값이 필요하다. 이를 위해 필요한 작업이 데이터 전처리이다. 보통 이런 상황에서 널리 사용하는 전처리 방법은 표준점수(z점수)이다. 표준점수는 각 특성값이 0에서 표준편차의 몇 배 만큼 떨어져 있는지를 나타내 특성값의 크기와 상관없이 동일한 조건으로 비교가 가능하다."
   ]
  },
  {
   "cell_type": "code",
   "execution_count": 41,
   "id": "84e5e8ca-78a8-414a-899f-86072274a47c",
   "metadata": {},
   "outputs": [],
   "source": [
    "# 새로운 데이터 값이 1이 나와야 하지만 0이 나왔다 이는 길이와 무게의 스케일이(범위)가 달라서 일어난다\n",
    "\n",
    "#데이터 전처리 : 머신러닝 모델에 훈련 데이터를 주입하기 전에 가공하는 단계, 많은 시간이 소모되기도 한다.\n",
    "\n",
    " \n",
    "\n",
    "#- 각각의 특성의 값이 놓인 범위가 매우 다르다 = 특성의 스케일이 다르다.\n",
    "\n",
    "#- 특성의 스케일이 다르면 머신러닝 알고리즘을 예측하기 힘드므로, 특성을 일정한 기준으로 맞춰줘야 한다.\n",
    "\n",
    " \n",
    "\n",
    "#- 표준점수(z점수) : 훈련 세트의 스케일을 바꾸는 대표적인 방법 중 하나, 특성의 평균을 빼고 표준편차로 나눈 값.\n",
    "\n",
    "#※ 반드시 훈련세트의 평균과 표준편차로 테스트세트를 바꿔야 한다.\n",
    "\n",
    " \n",
    "\n",
    "#- 브로드캐스팅 : 크기가 다른 넘파이 배열에서 자동으로 사칙 연산을 모든 행이나 열로 확장하여 수행하는 기능"
   ]
  },
  {
   "cell_type": "code",
   "execution_count": 45,
   "id": "300f99e2-b125-4bfe-b47c-344be44d6193",
   "metadata": {},
   "outputs": [],
   "source": [
    "mean = np.mean(train_input, axis=0)\n",
    "std = np.std(train_input, axis=0)\n",
    "train_scaled = (train_input - mean) / std #브로드 캐스팅: train_input의 모든 행에서 평균(meanm)값 만큼 빼준다.\n",
    "\n",
    "sample = ([25,150]-mean)/std # 샘플도 표준점수화"
   ]
  },
  {
   "cell_type": "code",
   "execution_count": 46,
   "id": "f61fe2e0-7ea1-474f-a6a8-7802d211a8fa",
   "metadata": {},
   "outputs": [
    {
     "data": {
      "image/png": "[encoded data removed]",
      "text/plain": [
       "<Figure size 432x288 with 1 Axes>"
      ]
     },
     "metadata": {
      "needs_background": "light"
     },
     "output_type": "display_data"
    },
    {
     "name": "stdout",
     "output_type": "stream",
     "text": [
      "[1.]\n"
     ]
    }
   ],
   "source": [
    "plt.scatter(train_scaled[:,0], train_scaled[:,1])\n",
    "plt.scatter(sample[0],sample[1], marker='^')\n",
    "plt.xlabel('length')\n",
    "plt.ylabel('weight')\n",
    "plt.show()\n",
    "# 이제는 확실히 샘플이 도미에 가까워짐\n",
    "\n",
    "\n",
    "test_scaled = (test_input - mean) / std #브로드 캐스팅: train_input의 모든 행에서 평균(meanm)값 만큼 빼준다.\n",
    "\n",
    "kn.fit(train_scaled, train_target)\n",
    "kn.score(test_scaled, test_target)\n",
    "print(kn.predict([sample])) #예측된 결과는 성공적으로 도미로 출력되었다."
   ]
  }
 ],
 "metadata": {
  "kernelspec": {
   "display_name": "Python 3",
   "language": "python",
   "name": "python3"
  },
  "language_info": {
   "codemirror_mode": {
    "name": "ipython",
    "version": 3
   },
   "file_extension": ".py",
   "mimetype": "text/x-python",
   "name": "python",
   "nbconvert_exporter": "python",
   "pygments_lexer": "ipython3",
   "version": "3.8.8"
  }
 },
 "nbformat": 4,
 "nbformat_minor": 5
}
